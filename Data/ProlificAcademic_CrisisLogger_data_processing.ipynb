{
 "cells": [
  {
   "cell_type": "code",
   "execution_count": 3,
   "metadata": {},
   "outputs": [],
   "source": [
    "import textract\n",
    "import numpy as np\n",
    "import scipy\n",
    "import gensim\n",
    "import os\n",
    "import pandas as pd\n",
    "import re\n",
    "import math\n",
    "import nltk\n",
    "from nltk.corpus import stopwords\n",
    "from nltk.stem.wordnet import WordNetLemmatizer\n",
    "#nltk.download('averaged_perceptron_tagger')\n",
    "from collections import Counter\n",
    "from matplotlib import pyplot as plt\n",
    "from gensim import corpora, models\n",
    "%matplotlib inline"
   ]
  },
  {
   "cell_type": "code",
   "execution_count": 4,
   "metadata": {},
   "outputs": [],
   "source": [
    "stopwords_list=stopwords.words('english')\n",
    "remove_stopwords_function=lambda tokenized_text, stopwords: [word for word in tokenized_text if word not in stopwords]\n",
    "lemmatizer_instance=WordNetLemmatizer()\n",
    "pos_tags_lemmatize_mapping_dict={'N': 'n', 'V': 'v', 'J': 'a', 'R': 'r'}\n",
    "\n",
    "def pos_mapping_function(pos_tag, dictionary=pos_tags_lemmatize_mapping_dict):\n",
    "    if pos_tag[0] in ['N', 'V', 'J', 'R']:\n",
    "        return dictionary[pos_tag[0]]\n",
    "    else:\n",
    "        return 'n'\n",
    "    \n",
    "def lemmatizer_function(text, dictionary=pos_tags_lemmatize_mapping_dict, pos_mapping_function=pos_mapping_function,\n",
    "                       lemmatizer=lemmatizer_instance):\n",
    "    pos_tags_for_lemmatize=[(word, pos_mapping_function(pos_tag)) for word, pos_tag in nltk.pos_tag(text)]\n",
    "    pos_tags_lemmatized=[lemmatizer_instance.lemmatize(word, pos=pos_tag) for word, pos_tag in pos_tags_for_lemmatize]\n",
    "    return pos_tags_lemmatized\n",
    "\n",
    "def text_processing_pipeline(text_list,additional_stopwords, min_token_count=1, stopwords_list=stopwords_list, \n",
    "                             lemmatizer_function=lemmatizer_function, dictionary=pos_tags_lemmatize_mapping_dict,\n",
    "                             pos_mapping_function=pos_mapping_function, lemmatizer=lemmatizer_instance):\n",
    "    stopwords_list=stopwords_list+additional_stopwords\n",
    "    lowercase_text_list=[text.lower() for text in text_list] #Making text lowercase\n",
    "    lowercase_text_list=[re.sub(r\"[^a-zA-Z0-9]\", \" \", text) for text in lowercase_text_list] #Removal of punctuation\n",
    "    lowercase_text_list=[text.split() for text in lowercase_text_list] #Tokenization\n",
    "    filtering_original_text=[text_list[i] for i in range (len(lowercase_text_list)) if len(lowercase_text_list[i])>min_token_count]\n",
    "    lowercase_text_list=[text for text in lowercase_text_list if len(text)>min_token_count] #Keeping text with an at least a pre-defined token count\n",
    "    lowercase_text_list=[remove_stopwords_function(text, stopwords_list) for text in lowercase_text_list] #Removing stopwords\n",
    "    lowercase_text_list=[lemmatizer_function(text) for text in lowercase_text_list] #Lemmatization\n",
    "    lowercase_text_list=[remove_stopwords_function(text, stopwords_list) for text in lowercase_text_list] #Removing stopwords\n",
    "    return lowercase_text_list, filtering_original_text"
   ]
  },
  {
   "cell_type": "code",
   "execution_count": 16,
   "metadata": {},
   "outputs": [],
   "source": [
    "crisis_logger=pd.read_csv('CrisisLogger/crisislogger.csv')\n",
    "additional_stopwords=['time','get','go','school', 'work', 'know', 'like', 'really', 'think', 'home',\n",
    "                     'family', 'feel', 'thing', 'kid', 'day', 'u', 'lot', 'child', 'also',\n",
    "                     'make', 'people', 'one', 'see', 'take', 'friend', 'year', 'much',\n",
    "                     'help', 'need', 'way', 'even',\n",
    "                     'well', 'try', 'kind', 'daughter', 'would',\n",
    "                     'able', 'old', 'say', 'back', 'want']\n",
    "stopwords_list=stopwords_list+additional_stopwords\n",
    "processed_transcriptions=text_processing_pipeline(list(crisis_logger.transcriptions), stopwords_list)\n",
    "flattened_list=[token for crisislog in processed_transcriptions[0] for token in crisislog]\n",
    "most_frequent_words_df=pd.DataFrame(Counter(flattened_list).most_common())\n",
    "most_frequent_words_df.to_csv('Most_frequent_words_from_crisislogger.csv')"
   ]
  },
  {
   "cell_type": "code",
   "execution_count": 5,
   "metadata": {},
   "outputs": [
    {
     "name": "stderr",
     "output_type": "stream",
     "text": [
      "c:\\anaconda\\lib\\site-packages\\IPython\\core\\interactiveshell.py:3209: DtypeWarning: Columns (93) have mixed types.Specify dtype option on import or set low_memory=False.\n",
      "  if (yield from self.run_code(code, result)):\n",
      "c:\\anaconda\\lib\\site-packages\\IPython\\core\\interactiveshell.py:3209: DtypeWarning: Columns (5,77,78) have mixed types.Specify dtype option on import or set low_memory=False.\n",
      "  if (yield from self.run_code(code, result)):\n"
     ]
    }
   ],
   "source": [
    "folders=['April 2020', 'May 2020', 'November 2020', 'April 2021']\n",
    "Prolific_academic_list_adult=[pd.read_csv('ProlificAcademic/' + folder + '/Data/CRISIS_Adult_' + re.sub(' ', '_', folder) + '.csv')\n",
    "                             for folder in folders]\n",
    "Prolific_academic_list_parent=[pd.read_csv('ProlificAcademic/' + folder + '/Data/CRISIS_Parent_' + re.sub(' ', '_', folder) + '.csv')\n",
    "                             for folder in folders]\n",
    "Prolific_academic_list=Prolific_academic_list_adult+Prolific_academic_list_parent\n",
    "specify_positive_data_orig=[list(Prolific_academic.specifypositive) for Prolific_academic in Prolific_academic_list]"
   ]
  },
  {
   "cell_type": "code",
   "execution_count": 7,
   "metadata": {},
   "outputs": [],
   "source": [
    "folders=['April 2020', 'May 2020', 'November 2020', 'April 2021']\n",
    "additional_stopwords_prolific_academic=[]\n",
    "Prolific_academic_list_adult=[pd.read_csv('ProlificAcademic/' + folder + '/Data/CRISIS_Adult_' + re.sub(' ', '_', folder) + '.csv')\n",
    "                             for folder in folders]\n",
    "Prolific_academic_list_parent=[pd.read_csv('ProlificAcademic/' + folder + '/Data/CRISIS_Parent_' + re.sub(' ', '_', folder) + '.csv')\n",
    "                             for folder in folders]\n",
    "Prolific_academic_list=Prolific_academic_list_adult+Prolific_academic_list_parent\n",
    "specify_positive_data_orig=[list(Prolific_academic.specifypositive) for Prolific_academic in Prolific_academic_list]\n",
    "specify_positive_data=[answer for survey in specify_positive_data_orig for answer in survey if type(answer)==str]\n",
    "keep_only_string=lambda survey: ([answer for answer in survey if type(answer)==str])\n",
    "specify_positive_data_by_survey=[keep_only_string(survey) for survey in specify_positive_data_orig]\n",
    "specify_positive_data_by_survey=[text_processing_pipeline(survey, additional_stopwords=additional_stopwords_prolific_academic) for survey in specify_positive_data_by_survey]\n",
    "processed_specify_positive_data=text_processing_pipeline(specify_positive_data, additional_stopwords=additional_stopwords_prolific_academic)[0]\n",
    "tokens_from_specify_positive_data=[token for answer in processed_specify_positive_data for token in answer]\n",
    "most_frequent_words_df=pd.DataFrame(Counter(tokens_from_specify_positive_data).most_common())\n",
    "most_frequent_words_df.to_csv('Most_frequent_words_from_ProlificAcademic.csv')"
   ]
  },
  {
   "cell_type": "code",
   "execution_count": null,
   "metadata": {},
   "outputs": [],
   "source": []
  }
 ],
 "metadata": {
  "kernelspec": {
   "display_name": "Python 3",
   "language": "python",
   "name": "python3"
  },
  "language_info": {
   "codemirror_mode": {
    "name": "ipython",
    "version": 3
   },
   "file_extension": ".py",
   "mimetype": "text/x-python",
   "name": "python",
   "nbconvert_exporter": "python",
   "pygments_lexer": "ipython3",
   "version": "3.7.0"
  }
 },
 "nbformat": 4,
 "nbformat_minor": 2
}
