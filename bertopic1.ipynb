{
 "cells": [
  {
   "cell_type": "code",
   "execution_count": 1,
   "metadata": {},
   "outputs": [],
   "source": [
    "import pandas as pd\n",
    "\n",
    "root = \"C:\\\\Users\\\\user\\\\SadafPythonCode\\\\MLHackathon\\\\ML-for-Good-Hackathon\\\\Data\\\\\"\n",
    "df_p1 = pd.read_csv(root + 'ProlificAcademic\\\\April 2020\\\\Data\\\\CRISIS_Parent_April_2020.csv')\n",
    "df_p2 = pd.read_csv(root + 'ProlificAcademic\\\\May 2020\\\\Data\\\\CRISIS_Parent_May_2020.csv')\n",
    "df_p3 = pd.read_csv(root + 'ProlificAcademic\\\\November 2020\\\\Data\\\\CRISIS_Parent_November_2020.csv')\n",
    "df_p4 = pd.read_csv(root + 'ProlificAcademic\\\\April 2021\\\\Data\\\\CRISIS_Parent_April_2021.csv')"
   ]
  },
  {
   "cell_type": "code",
   "execution_count": 23,
   "metadata": {},
   "outputs": [],
   "source": [
    "df_pos_1 = df_p1[['specifypositive']].dropna()\n",
    "df_pos_2 = df_p2[['specifypositive']].dropna()\n",
    "df_pos_3 = df_p3[['specifypositive']].dropna()\n",
    "df_pos_4 = df_p4[['specifypositive']].dropna()\n",
    "\n",
    "df_combined = pd.concat([df_pos_1, df_pos_2, df_pos_3, df_pos_4])\n",
    "positive_things = df_combined.specifypositive.to_list()\n",
    "\n",
    "mydoc = '. '.join([elem for elem in positive_things])"
   ]
  },
  {
   "cell_type": "code",
   "execution_count": 31,
   "metadata": {},
   "outputs": [
    {
     "data": {
      "text/plain": [
       "[('family time improved', 0.5581),\n",
       " ('house wife spends', 0.5322),\n",
       " ('daughter happier doing', 0.462),\n",
       " ('home relationships time', 0.4998),\n",
       " ('home parents better', 0.5123)]"
      ]
     },
     "execution_count": 31,
     "metadata": {},
     "output_type": "execute_result"
    }
   ],
   "source": [
    "from keybert import KeyBERT\n",
    "\n",
    "kw_model = KeyBERT()\n",
    "keywords = kw_model.extract_keywords(mydoc, keyphrase_ngram_range=(1,3), \n",
    "                                     use_mmr=True,\n",
    "                                     diversity=0.2\n",
    "                                    \n",
    "                                    )\n",
    "keywords"
   ]
  },
  {
   "cell_type": "code",
   "execution_count": 30,
   "metadata": {},
   "outputs": [
    {
     "data": {
      "text/plain": [
       "[('family time improved', 0.5581),\n",
       " ('outdoors walking dog', 0.0675),\n",
       " ('received stimulus checks', 0.1512),\n",
       " ('connecting friends video', 0.0883),\n",
       " ('shes happy doesnt', 0.2698)]"
      ]
     },
     "execution_count": 30,
     "metadata": {},
     "output_type": "execute_result"
    }
   ],
   "source": [
    "keywords\n"
   ]
  },
  {
   "cell_type": "code",
   "execution_count": null,
   "metadata": {},
   "outputs": [],
   "source": []
  },
  {
   "cell_type": "code",
   "execution_count": 11,
   "metadata": {},
   "outputs": [
    {
     "data": {
      "text/plain": [
       "[('supervised learning algorithm', 0.6992),\n",
       " ('pairs infers function', 0.1981),\n",
       " ('unseen situations reasonable', 0.2142),\n",
       " ('value called supervisory', 0.2895),\n",
       " ('class labels unseen', 0.3469)]"
      ]
     },
     "execution_count": 11,
     "metadata": {},
     "output_type": "execute_result"
    }
   ],
   "source": [
    "kw_model.extract_keywords(doc, keyphrase_ngram_range=(3, 3), stop_words='english', \n",
    "                              use_mmr=True, diversity=0.7)"
   ]
  },
  {
   "cell_type": "code",
   "execution_count": 12,
   "metadata": {},
   "outputs": [
    {
     "data": {
      "text/plain": [
       "[('supervised learning algorithm', 0.6992),\n",
       " ('function labeled training', 0.663),\n",
       " ('supervised learning example', 0.6807),\n",
       " ('supervisory signal supervised', 0.5802),\n",
       " ('supervised learning machine', 0.6706)]"
      ]
     },
     "execution_count": 12,
     "metadata": {},
     "output_type": "execute_result"
    }
   ],
   "source": [
    "kw_model.extract_keywords(doc, keyphrase_ngram_range=(3, 3), stop_words='english', \n",
    "                              use_mmr=True, diversity=0.2)"
   ]
  },
  {
   "cell_type": "code",
   "execution_count": null,
   "metadata": {},
   "outputs": [],
   "source": []
  }
 ],
 "metadata": {
  "kernelspec": {
   "display_name": "mybert",
   "language": "python",
   "name": "mybert"
  },
  "language_info": {
   "codemirror_mode": {
    "name": "ipython",
    "version": 3
   },
   "file_extension": ".py",
   "mimetype": "text/x-python",
   "name": "python",
   "nbconvert_exporter": "python",
   "pygments_lexer": "ipython3",
   "version": "3.8.5"
  }
 },
 "nbformat": 4,
 "nbformat_minor": 5
}
