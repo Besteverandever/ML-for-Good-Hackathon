{
 "cells": [
  {
   "cell_type": "code",
   "execution_count": 7,
   "id": "544bac48",
   "metadata": {},
   "outputs": [
    {
     "data": {
      "text/plain": [
       "\"It has been very challenges for us. In the beginning of March, I have been diagnosed with breast cancer. Cancer diagnosis along is lonely and frustrating, especially if you are under 40 with kids ( I feel I am the youngest one in cancer center) and then COVID-19 happen. My treatment plan got impacted but at least I am getting some treatment and doctors are doing everything to help me. Additionally, my mom's knee replacement surgery got postponed and she is now can only jump on 1 leg... My FIL surgery to reverse colostomy bag after his cancer treatment is post postponed and we cannot see my in laws as we are afraid of COVID. My 5th grader will miss his graduation and misses his friends who will be going to different school next year. My preschooler is very active and I am thankful that we have the backyard. So it is a lot to handle. On top of it, both my hubby and I are working from home now. We do not have private office at home and since we are working for non profit international organization, work load increased. We are lucky enough to stay employed during this time and my employer is very flexible for me to take time off for treatment. We also have big family and good friends. We do zoom meetings with cousins, friends, etc regularly. We also do virtual zoomba classes and  exercise bike. We spend a lot of time on our backyard. We are cooking and baking more which is good because I cannot loose weight to continue with my treatments. Our 5th grader became less picky eater and tries everything now. We do family movie nights, gazing the stars nights, backyard clean up party., dance away party and during the day when i do not feel well, we play who takes best care of mommy game. It helps that kids' teachers have meetings with kids so they can feel connected. Our son goes to SKYPE Saturday school for extra activities and our daughter does hip hop classes over zoom. We also\""
      ]
     },
     "execution_count": 7,
     "metadata": {},
     "output_type": "execute_result"
    }
   ],
   "source": [
    "import pandas as pd\n",
    "\n",
    "root = \"C:\\\\Users\\\\user\\\\SadafPythonCode\\\\MLHackathon\\\\ML-for-Good-Hackathon\\\\Data\\\\\"\n",
    "df = pd.read_csv(root + 'CrisisLogger\\\\crisislogger.csv')\n",
    "a = df.iloc[28,1]\n",
    "a"
   ]
  },
  {
   "cell_type": "code",
   "execution_count": 8,
   "id": "fcc22084",
   "metadata": {},
   "outputs": [],
   "source": [
    "import spacy\n",
    "nlp = spacy.load('en_core_web_sm',disable=['ner','textcat'])\n",
    "\n",
    "# function for rule 2\n",
    "def rule2(text):    \n",
    "    doc = nlp(text)\n",
    "    pat = []    \n",
    "    # iterate over tokens\n",
    "    for token in doc:\n",
    "        phrase = ''\n",
    "        # if the word is a subject noun or an object noun\n",
    "        if (token.pos_ == 'NOUN')\\\n",
    "            and (token.dep_ in ['dobj','pobj','nsubj','nsubjpass']):\n",
    "            # iterate over the children nodes\n",
    "            for subtoken in token.children:\n",
    "                # if word is an adjective or has a compound dependency\n",
    "                if (subtoken.pos_ == 'ADJ') or (subtoken.dep_ == 'compound'):\n",
    "                    phrase += subtoken.text + ' '                    \n",
    "            if len(phrase)!=0:\n",
    "                phrase += token.text             \n",
    "        if  len(phrase)!=0:\n",
    "            pat.append(phrase)\n",
    "    return pat\n"
   ]
  },
  {
   "cell_type": "markdown",
   "id": "7f3303d2",
   "metadata": {},
   "source": [
    "### Noun Phrases"
   ]
  },
  {
   "cell_type": "code",
   "execution_count": 9,
   "id": "2beb1ec7",
   "metadata": {},
   "outputs": [
    {
     "data": {
      "text/plain": [
       "['breast cancer',\n",
       " 'Cancer diagnosis',\n",
       " 'cancer center',\n",
       " 'treatment plan',\n",
       " 'replacement surgery',\n",
       " 'FIL surgery',\n",
       " 'colostomy bag',\n",
       " 'cancer treatment',\n",
       " '5th grader',\n",
       " 'different school',\n",
       " 'private office',\n",
       " 'non international organization',\n",
       " 'work load',\n",
       " 'big family',\n",
       " 'zoom meetings',\n",
       " 'zoomba classes',\n",
       " '5th grader',\n",
       " 'movie nights',\n",
       " 'stars nights',\n",
       " 'best care',\n",
       " 'mommy game',\n",
       " 'Saturday school',\n",
       " 'extra activities',\n",
       " 'hip hop classes']"
      ]
     },
     "execution_count": 9,
     "metadata": {},
     "output_type": "execute_result"
    }
   ],
   "source": [
    "rule2(a) # noun phrases"
   ]
  },
  {
   "cell_type": "markdown",
   "id": "8fe59c53",
   "metadata": {},
   "source": [
    "### I/We phrases"
   ]
  },
  {
   "cell_type": "code",
   "execution_count": 10,
   "id": "d05b2a8c",
   "metadata": {},
   "outputs": [
    {
     "data": {
      "text/plain": [
       "[' I get treatment',\n",
       " ' surgery reverse colostomy bag',\n",
       " ' 5th grader miss graduation',\n",
       " ' we have backyard',\n",
       " ' We have private office',\n",
       " ' me take time',\n",
       " ' We have big family',\n",
       " ' We do meetings',\n",
       " ' We do classes',\n",
       " ' We spend lot',\n",
       " ' I loose weight',\n",
       " ' We do nights',\n",
       " ' who take best care',\n",
       " ' teachers have meetings',\n",
       " ' daughter do classes']"
      ]
     },
     "execution_count": 10,
     "metadata": {},
     "output_type": "execute_result"
    }
   ],
   "source": [
    "def rule2_mod(text,index):\n",
    "    \n",
    "    doc = nlp(text)\n",
    "\n",
    "    phrase = ''\n",
    "    \n",
    "    for token in doc:\n",
    "        \n",
    "        if token.i == index:\n",
    "            \n",
    "            for subtoken in token.children:\n",
    "                if (subtoken.pos_ == 'ADJ'):\n",
    "                    phrase += ' '+subtoken.text\n",
    "            break\n",
    "    \n",
    "    return phrase\n",
    "\n",
    "# rule 1 modified function\n",
    "def rule1_mod(text):\n",
    "    \n",
    "    doc = nlp(text)\n",
    "    \n",
    "    sent = []\n",
    "    \n",
    "    for token in doc:\n",
    "        # root word\n",
    "        if (token.pos_=='VERB'):\n",
    "            \n",
    "            phrase =''\n",
    "            \n",
    "            # only extract noun or pronoun subjects\n",
    "            for sub_tok in token.lefts:\n",
    "                \n",
    "                if (sub_tok.dep_ in ['nsubj','nsubjpass']) and (sub_tok.pos_ in ['NOUN','PROPN','PRON']):\n",
    "                    \n",
    "                    # look for subject modifier\n",
    "                    adj = rule2_mod(text,sub_tok.i)\n",
    "                    \n",
    "                    phrase += adj + ' ' + sub_tok.text\n",
    "\n",
    "                    # save the root word of the word\n",
    "                    phrase += ' '+token.lemma_ \n",
    "\n",
    "                    # check for noun or pronoun direct objects\n",
    "                    for sub_tok in token.rights:\n",
    "                        \n",
    "                        if (sub_tok.dep_ in ['dobj']) and (sub_tok.pos_ in ['NOUN','PROPN']):\n",
    "                            \n",
    "                            # look for object modifier\n",
    "                            adj = rule2_mod(text,sub_tok.i)\n",
    "                            \n",
    "                            phrase += adj+' '+sub_tok.text\n",
    "                            sent.append(phrase)\n",
    "            \n",
    "    return sent\n",
    "\n",
    "rule1_mod(a) # I/we phrases"
   ]
  },
  {
   "cell_type": "markdown",
   "id": "f5a3e1a2",
   "metadata": {},
   "source": [
    "###  Phrases with noun followed by prepositions"
   ]
  },
  {
   "cell_type": "code",
   "execution_count": 11,
   "id": "8f0f554f",
   "metadata": {},
   "outputs": [
    {
     "data": {
      "text/plain": [
       "['challenges for',\n",
       " 'beginning of March',\n",
       " 'diagnosis along',\n",
       " 'top of',\n",
       " 'meetings with cousins',\n",
       " 'lot of time',\n",
       " 'care of game',\n",
       " 'meetings with kids']"
      ]
     },
     "execution_count": 11,
     "metadata": {},
     "output_type": "execute_result"
    }
   ],
   "source": [
    "# rule 3 function\n",
    "def rule3(text):\n",
    "    \n",
    "    doc = nlp(text)\n",
    "    \n",
    "    sent = []\n",
    "    \n",
    "    for token in doc:\n",
    "\n",
    "        # look for prepositions\n",
    "        if token.pos_=='ADP':\n",
    "\n",
    "            phrase = ''\n",
    "            \n",
    "            # if its head word is a noun\n",
    "            if token.head.pos_=='NOUN':\n",
    "                \n",
    "                # append noun and preposition to phrase\n",
    "                phrase += token.head.text\n",
    "                phrase += ' '+token.text\n",
    "\n",
    "                # check the nodes to the right of the preposition\n",
    "                for right_tok in token.rights:\n",
    "                    # append if it is a noun or proper noun\n",
    "                    if (right_tok.pos_ in ['NOUN','PROPN']):\n",
    "                        phrase += ' '+right_tok.text\n",
    "                \n",
    "                if len(phrase)>2:\n",
    "                    sent.append(phrase)\n",
    "                \n",
    "    return sent\n",
    "rule3(a) # prepositions"
   ]
  },
  {
   "cell_type": "code",
   "execution_count": null,
   "id": "9d95a329",
   "metadata": {},
   "outputs": [],
   "source": []
  },
  {
   "cell_type": "code",
   "execution_count": null,
   "id": "432ec15b",
   "metadata": {},
   "outputs": [],
   "source": []
  },
  {
   "cell_type": "code",
   "execution_count": null,
   "id": "e4dfe8c6",
   "metadata": {},
   "outputs": [],
   "source": []
  }
 ],
 "metadata": {
  "kernelspec": {
   "display_name": "mybert",
   "language": "python",
   "name": "mybert"
  },
  "language_info": {
   "codemirror_mode": {
    "name": "ipython",
    "version": 3
   },
   "file_extension": ".py",
   "mimetype": "text/x-python",
   "name": "python",
   "nbconvert_exporter": "python",
   "pygments_lexer": "ipython3",
   "version": "3.8.5"
  }
 },
 "nbformat": 4,
 "nbformat_minor": 5
}
